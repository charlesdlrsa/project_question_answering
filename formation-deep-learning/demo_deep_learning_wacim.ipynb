{
 "cells": [
  {
   "cell_type": "markdown",
   "metadata": {},
   "source": [
    "# DEEP LEARNING BASICS"
   ]
  },
  {
   "cell_type": "markdown",
   "metadata": {},
   "source": [
    "### Imports"
   ]
  },
  {
   "cell_type": "code",
   "execution_count": null,
   "metadata": {},
   "outputs": [],
   "source": [
    "import numpy as np\n",
    "import pandas as pd \n",
    "\n",
    "from keras.layers import Dense, Input\n",
    "from keras.models import Model\n",
    "from keras.optimizers import Adam\n",
    "from keras.losses import binary_crossentropy, categorical_crossentropy\n",
    "import keras\n",
    "\n",
    "from sklearn.model_selection import train_test_split\n",
    "\n",
    "import matplotlib.pyplot as plt"
   ]
  },
  {
   "cell_type": "markdown",
   "metadata": {},
   "source": [
    "### Generate fake data and feed forward"
   ]
  },
  {
   "cell_type": "code",
   "execution_count": 4,
   "metadata": {
    "collapsed": true,
    "scrolled": true
   },
   "outputs": [],
   "source": [
    "n_students = 1000\n",
    "\n",
    "sleep = np.random.randint(3, 12, size=(n_students,))\n",
    "work = np.random.randint(0, 15, size=(n_students,))"
   ]
  },
  {
   "cell_type": "code",
   "execution_count": 9,
   "metadata": {},
   "outputs": [],
   "source": [
    "data = np.vstack([sleep, work]).T"
   ]
  },
  {
   "cell_type": "code",
   "execution_count": 12,
   "metadata": {
    "collapsed": true
   },
   "outputs": [],
   "source": [
    "labels = np.random.randint(0, 2, size=(n_students, ))"
   ]
  },
  {
   "cell_type": "markdown",
   "metadata": {},
   "source": [
    "## Model"
   ]
  },
  {
   "cell_type": "code",
   "execution_count": 35,
   "metadata": {},
   "outputs": [],
   "source": [
    "student_data = keras.layers.Input(shape=(2,))\n",
    "\n",
    "hidden_1 = keras.layers.Dense(100, activation=\"relu\")(student_data)\n",
    "\n",
    "hidden_2 = keras.layers.Dense(10, activation=\"relu\")(hidden_1)\n",
    "\n",
    "has_passed_exam = keras.layers.Dense(1, activation=\"sigmoid\")(hidden_2)"
   ]
  },
  {
   "cell_type": "code",
   "execution_count": 39,
   "metadata": {},
   "outputs": [],
   "source": [
    "network = keras.models.Model(student_data, has_passed_exam)"
   ]
  },
  {
   "cell_type": "code",
   "execution_count": 41,
   "metadata": {},
   "outputs": [
    {
     "name": "stdout",
     "output_type": "stream",
     "text": [
      "_________________________________________________________________\n",
      "Layer (type)                 Output Shape              Param #   \n",
      "=================================================================\n",
      "input_7 (InputLayer)         (None, 2)                 0         \n",
      "_________________________________________________________________\n",
      "dense_12 (Dense)             (None, 100)               300       \n",
      "_________________________________________________________________\n",
      "dense_13 (Dense)             (None, 10)                1010      \n",
      "_________________________________________________________________\n",
      "dense_14 (Dense)             (None, 1)                 11        \n",
      "=================================================================\n",
      "Total params: 1,321\n",
      "Trainable params: 1,321\n",
      "Non-trainable params: 0\n",
      "_________________________________________________________________\n"
     ]
    }
   ],
   "source": [
    "network.summary()"
   ]
  },
  {
   "cell_type": "code",
   "execution_count": 45,
   "metadata": {
    "scrolled": false
   },
   "outputs": [],
   "source": [
    "# Feed-Forward\n",
    "test_feed_forward = network.predict(data)"
   ]
  },
  {
   "cell_type": "markdown",
   "metadata": {},
   "source": [
    "## Train"
   ]
  },
  {
   "cell_type": "code",
   "execution_count": 63,
   "metadata": {
    "collapsed": true
   },
   "outputs": [],
   "source": [
    "BATCH_SIZE = 32\n",
    "LEARNING_RATE = 0.0001\n",
    "EPOCHS = 10"
   ]
  },
  {
   "cell_type": "code",
   "execution_count": 50,
   "metadata": {
    "collapsed": true
   },
   "outputs": [],
   "source": [
    "xtrain, xval, ytrain, yval = train_test_split(data, labels, test_size=0.2)"
   ]
  },
  {
   "cell_type": "code",
   "execution_count": 71,
   "metadata": {},
   "outputs": [],
   "source": [
    "# Compilation\n",
    "network.compile(optimizer=Adam(lr=LEARNING_RATE), loss=\"binary_crossentropy\", metrics=[\"accuracy\"])"
   ]
  },
  {
   "cell_type": "code",
   "execution_count": 86,
   "metadata": {},
   "outputs": [
    {
     "name": "stdout",
     "output_type": "stream",
     "text": [
      "Train on 800 samples, validate on 200 samples\n",
      "Epoch 1/10\n",
      "800/800 [==============================] - 0s 112us/step - loss: 0.6905 - acc: 0.5400 - val_loss: 0.6955 - val_acc: 0.4950\n",
      "Epoch 2/10\n",
      "800/800 [==============================] - 0s 69us/step - loss: 0.6908 - acc: 0.5237 - val_loss: 0.6970 - val_acc: 0.4950\n",
      "Epoch 3/10\n",
      "800/800 [==============================] - 0s 91us/step - loss: 0.6912 - acc: 0.5450 - val_loss: 0.6960 - val_acc: 0.4950\n",
      "Epoch 4/10\n",
      "800/800 [==============================] - 0s 70us/step - loss: 0.6905 - acc: 0.5275 - val_loss: 0.6979 - val_acc: 0.4850\n",
      "Epoch 5/10\n",
      "800/800 [==============================] - 0s 98us/step - loss: 0.6908 - acc: 0.5300 - val_loss: 0.6964 - val_acc: 0.4900\n",
      "Epoch 6/10\n",
      "800/800 [==============================] - 0s 72us/step - loss: 0.6904 - acc: 0.5312 - val_loss: 0.6975 - val_acc: 0.4950\n",
      "Epoch 7/10\n",
      "800/800 [==============================] - 0s 65us/step - loss: 0.6906 - acc: 0.5350 - val_loss: 0.6964 - val_acc: 0.4950\n",
      "Epoch 8/10\n",
      "800/800 [==============================] - 0s 87us/step - loss: 0.6910 - acc: 0.5375 - val_loss: 0.6954 - val_acc: 0.4750\n",
      "Epoch 9/10\n",
      "800/800 [==============================] - ETA: 0s - loss: 0.6906 - acc: 0.593 - 0s 64us/step - loss: 0.6912 - acc: 0.5288 - val_loss: 0.6971 - val_acc: 0.4950\n",
      "Epoch 10/10\n",
      "800/800 [==============================] - 0s 96us/step - loss: 0.6917 - acc: 0.5275 - val_loss: 0.6967 - val_acc: 0.4950\n"
     ]
    }
   ],
   "source": [
    "# Train\n",
    "history = network.fit(xtrain, \n",
    "            ytrain,\n",
    "            batch_size=BATCH_SIZE,\n",
    "            epochs=EPOCHS,\n",
    "            validation_data=(xval, yval)\n",
    "       )"
   ]
  },
  {
   "cell_type": "code",
   "execution_count": 97,
   "metadata": {},
   "outputs": [],
   "source": [
    "def batch_generator(features, labels, batch_size):\n",
    "    features = pd.DataFrame(features)\n",
    "    labels = pd.DataFrame(labels)\n",
    "    while 1:\n",
    "        batch_features = features.sample(batch_size)\n",
    "        batch_labels = labels.loc[batch_features.index]\n",
    "        yield batch_features, batch_labels"
   ]
  },
  {
   "cell_type": "code",
   "execution_count": 98,
   "metadata": {},
   "outputs": [
    {
     "name": "stdout",
     "output_type": "stream",
     "text": [
      "Epoch 1/10\n",
      "10/10 [==============================] - 0s 5ms/step - loss: 0.6942 - acc: 0.5125\n",
      "Epoch 2/10\n",
      "10/10 [==============================] - 0s 4ms/step - loss: 0.6890 - acc: 0.5438\n",
      "Epoch 3/10\n",
      "10/10 [==============================] - 0s 3ms/step - loss: 0.6912 - acc: 0.5375\n",
      "Epoch 4/10\n",
      "10/10 [==============================] - 0s 4ms/step - loss: 0.6935 - acc: 0.4969\n",
      "Epoch 5/10\n",
      "10/10 [==============================] - 0s 3ms/step - loss: 0.6912 - acc: 0.5125\n",
      "Epoch 6/10\n",
      "10/10 [==============================] - 0s 4ms/step - loss: 0.6872 - acc: 0.5594\n",
      "Epoch 7/10\n",
      "10/10 [==============================] - 0s 4ms/step - loss: 0.6877 - acc: 0.5438\n",
      "Epoch 8/10\n",
      "10/10 [==============================] - 0s 4ms/step - loss: 0.6829 - acc: 0.5656\n",
      "Epoch 9/10\n",
      "10/10 [==============================] - 0s 4ms/step - loss: 0.6807 - acc: 0.5719\n",
      "Epoch 10/10\n",
      "10/10 [==============================] - 0s 4ms/step - loss: 0.6986 - acc: 0.4875\n"
     ]
    }
   ],
   "source": [
    "# Train\n",
    "history = network.fit_generator(batch_generator(xtrain, ytrain, BATCH_SIZE), steps_per_epoch=10, epochs=EPOCHS)"
   ]
  },
  {
   "cell_type": "markdown",
   "metadata": {},
   "source": [
    "# NLP AND RNN"
   ]
  },
  {
   "cell_type": "code",
   "execution_count": null,
   "metadata": {
    "collapsed": true
   },
   "outputs": [],
   "source": []
  }
 ],
 "metadata": {
  "kernelspec": {
   "display_name": "Python 3",
   "language": "python",
   "name": "python3"
  },
  "language_info": {
   "codemirror_mode": {
    "name": "ipython",
    "version": 3
   },
   "file_extension": ".py",
   "mimetype": "text/x-python",
   "name": "python",
   "nbconvert_exporter": "python",
   "pygments_lexer": "ipython3",
   "version": "3.6.3"
  }
 },
 "nbformat": 4,
 "nbformat_minor": 2
}
